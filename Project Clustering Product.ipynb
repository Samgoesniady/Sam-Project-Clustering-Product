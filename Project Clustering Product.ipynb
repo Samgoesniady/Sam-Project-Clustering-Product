{
 "cells": [
  {
   "cell_type": "markdown",
   "metadata": {
    "id": "eEi_kSxKkE8Z"
   },
   "source": [
    "# K Means Clustering Algorithm"
   ]
  },
  {
   "cell_type": "markdown",
   "metadata": {
    "id": "cg1JY1yWkE8i"
   },
   "source": [
    "## Studi Kasus"
   ]
  },
  {
   "cell_type": "markdown",
   "metadata": {
    "id": "0uat0VXdt0w2"
   },
   "source": [
    "Data yang anda miliki adalah data penjualan setelah terjadinya pandemi Covid-19 dengan kategori produk sports & apparel. Dikarenakan saat ini penjualan banyak dilakukan secara online, anda berencana untuk memperbaiki tampilan website dengan cara mengelompokkan produk berdasarkan kategori-kategori tertentu. Perombakan ini diharapkan dapat mempermudah pembeli dalam memilih barang sesuai dengan selera dan kebutuhan mereka. Untuk mencapai tujuan tersebut anda akan menggunakan history penjualan sebelumnya. Data yang anda miliki adalah sebagai berikut :\n",
    "\n",
    "- Product Name : Nama produk \n",
    "- Product ID : Id unik produk\n",
    "- Listing Price : Harga sebenarnya dari produk\n",
    "- Sale Price : Harga saat produk dibeli\n",
    "- Discount : Diskon yang diberikan dalam suatu produk\n",
    "- Brand : Nama Brand dari produk\n",
    "- Description : Deskripsi produk\n",
    "- Rating : Rating yang diberikan user\n",
    "- Reviews : Jumlah review suatu produk\n",
    "- Last Visited : Record terakhir produk dikunjungi oleh customer\n",
    "\n",
    "Selain mengelompokkan produk, anda juga ingin menganalisis persaingan yang terjadi pada tiap-tiap brand. Dengan mengetahui minat pembeli, harapannya untuk kedepannya anda dapat menyesuaikan store anda dengan kebutuhan pasar."
   ]
  },
  {
   "cell_type": "markdown",
   "metadata": {
    "id": "Hv1ac7niWdfG"
   },
   "source": [
    "## Import Libraries and Data"
   ]
  },
  {
   "cell_type": "code",
   "execution_count": null,
   "metadata": {
    "colab": {
     "base_uri": "https://localhost:8080/"
    },
    "executionInfo": {
     "elapsed": 536,
     "status": "ok",
     "timestamp": 1629112011947,
     "user": {
      "displayName": "Rahayu Oktavia Putri",
      "photoUrl": "",
      "userId": "02165658332696555094"
     },
     "user_tz": -420
    },
    "id": "LEpeS5LMWn_l",
    "outputId": "fd9c6ce8-3013-462f-908a-a5b3b723a62c"
   },
   "outputs": [
    {
     "name": "stdout",
     "output_type": "stream",
     "text": [
      "Drive already mounted at /content/gdrive; to attempt to forcibly remount, call drive.mount(\"/content/gdrive\", force_remount=True).\n"
     ]
    }
   ],
   "source": [
    "# connect colab ke g drive\n",
    "from google.colab import drive\n",
    "drive.mount('/content/gdrive')"
   ]
  },
  {
   "cell_type": "code",
   "execution_count": null,
   "metadata": {
    "id": "05cDrDDtkE8i"
   },
   "outputs": [],
   "source": [
    "# import package\n",
    "import os\n",
    "import pandas as pd\n",
    "import numpy as np\n",
    "from sklearn.preprocessing import LabelEncoder, StandardScaler\n",
    "from sklearn.cluster import KMeans\n",
    "from sklearn.metrics import silhouette_score\n",
    "\n",
    "# Package untuk visualisasi\n",
    "import seaborn as sns\n",
    "import matplotlib.pyplot as plt"
   ]
  },
  {
   "cell_type": "code",
   "execution_count": null,
   "metadata": {
    "colab": {
     "base_uri": "https://localhost:8080/"
    },
    "executionInfo": {
     "elapsed": 10,
     "status": "ok",
     "timestamp": 1629112012745,
     "user": {
      "displayName": "Rahayu Oktavia Putri",
      "photoUrl": "",
      "userId": "02165658332696555094"
     },
     "user_tz": -420
    },
    "id": "m8f52t5gH8o1",
    "outputId": "9e701887-452a-4c45-a6c2-5c4849c147af"
   },
   "outputs": [
    {
     "data": {
      "text/plain": [
       "['customer_segments.csv',\n",
       " 'metadata_breakoutroom.txt',\n",
       " 'Clustering_product.csv']"
      ]
     },
     "execution_count": 3,
     "metadata": {
      "tags": []
     },
     "output_type": "execute_result"
    }
   ],
   "source": [
    "# Membuat path untuk mengidentifikasi letak directory\n",
    "# Catatan : pastikan path yang anda masukkan sesuai dengan directory data anda. Kemungkinan besar path di contoh ini berbeda dengan penyimpanan data anda\n",
    "path = 'gdrive/My Drive/narasio_data/Class Division/Summer Class/Review Intermediate/Data'\n",
    "\n",
    "# Cek directory\n",
    "os.listdir(path)"
   ]
  },
  {
   "cell_type": "code",
   "execution_count": null,
   "metadata": {
    "colab": {
     "base_uri": "https://localhost:8080/",
     "height": 302
    },
    "executionInfo": {
     "elapsed": 9,
     "status": "ok",
     "timestamp": 1629112012746,
     "user": {
      "displayName": "Rahayu Oktavia Putri",
      "photoUrl": "",
      "userId": "02165658332696555094"
     },
     "user_tz": -420
    },
    "id": "eMJd8aXckE8j",
    "outputId": "d09f00b7-939b-406f-85d5-88065b63ca22"
   },
   "outputs": [
    {
     "data": {
      "text/html": [
       "<div>\n",
       "<style scoped>\n",
       "    .dataframe tbody tr th:only-of-type {\n",
       "        vertical-align: middle;\n",
       "    }\n",
       "\n",
       "    .dataframe tbody tr th {\n",
       "        vertical-align: top;\n",
       "    }\n",
       "\n",
       "    .dataframe thead th {\n",
       "        text-align: right;\n",
       "    }\n",
       "</style>\n",
       "<table border=\"1\" class=\"dataframe\">\n",
       "  <thead>\n",
       "    <tr style=\"text-align: right;\">\n",
       "      <th></th>\n",
       "      <th>Product Name</th>\n",
       "      <th>Product ID</th>\n",
       "      <th>Listing Price</th>\n",
       "      <th>Sale Price</th>\n",
       "      <th>Discount</th>\n",
       "      <th>Brand</th>\n",
       "      <th>Description</th>\n",
       "      <th>Rating</th>\n",
       "      <th>Reviews</th>\n",
       "      <th>Last Visited\\t</th>\n",
       "    </tr>\n",
       "  </thead>\n",
       "  <tbody>\n",
       "    <tr>\n",
       "      <th>0</th>\n",
       "      <td>Women's adidas Originals NMD_Racer Primeknit S...</td>\n",
       "      <td>AH2430</td>\n",
       "      <td>14999</td>\n",
       "      <td>7499</td>\n",
       "      <td>50</td>\n",
       "      <td>Adidas ORIGINALS</td>\n",
       "      <td>Channeling the streamlined look of an '80s rac...</td>\n",
       "      <td>4.8</td>\n",
       "      <td>41</td>\n",
       "      <td>2020-04-13T15:06:14\\t</td>\n",
       "    </tr>\n",
       "    <tr>\n",
       "      <th>1</th>\n",
       "      <td>Women's adidas Originals Sleek Shoes</td>\n",
       "      <td>G27341</td>\n",
       "      <td>7599</td>\n",
       "      <td>3799</td>\n",
       "      <td>50</td>\n",
       "      <td>Adidas ORIGINALS</td>\n",
       "      <td>A modern take on adidas sport heritage, tailor...</td>\n",
       "      <td>3.3</td>\n",
       "      <td>24</td>\n",
       "      <td>2020-04-13T15:06:15\\t</td>\n",
       "    </tr>\n",
       "    <tr>\n",
       "      <th>2</th>\n",
       "      <td>Women's adidas Swim Puka Slippers</td>\n",
       "      <td>CM0081</td>\n",
       "      <td>999</td>\n",
       "      <td>599</td>\n",
       "      <td>40</td>\n",
       "      <td>Adidas CORE / NEO</td>\n",
       "      <td>These adidas Puka slippers for women's come wi...</td>\n",
       "      <td>2.6</td>\n",
       "      <td>37</td>\n",
       "      <td>2020-04-13T15:06:15\\t</td>\n",
       "    </tr>\n",
       "    <tr>\n",
       "      <th>3</th>\n",
       "      <td>Women's adidas Sport Inspired Questar Ride Shoes</td>\n",
       "      <td>B44832</td>\n",
       "      <td>6999</td>\n",
       "      <td>3499</td>\n",
       "      <td>50</td>\n",
       "      <td>Adidas CORE / NEO</td>\n",
       "      <td>Inspired by modern tech runners, these women's...</td>\n",
       "      <td>4.1</td>\n",
       "      <td>35</td>\n",
       "      <td>2020-04-13T15:06:15\\t</td>\n",
       "    </tr>\n",
       "    <tr>\n",
       "      <th>4</th>\n",
       "      <td>Women's adidas Originals Taekwondo Shoes</td>\n",
       "      <td>D98205</td>\n",
       "      <td>7999</td>\n",
       "      <td>3999</td>\n",
       "      <td>50</td>\n",
       "      <td>Adidas ORIGINALS</td>\n",
       "      <td>This design is inspired by vintage Taekwondo s...</td>\n",
       "      <td>3.5</td>\n",
       "      <td>72</td>\n",
       "      <td>2020-04-13T15:06:15\\t</td>\n",
       "    </tr>\n",
       "  </tbody>\n",
       "</table>\n",
       "</div>"
      ],
      "text/plain": [
       "                                        Product Name  ...         Last Visited\\t\n",
       "0  Women's adidas Originals NMD_Racer Primeknit S...  ...  2020-04-13T15:06:14\\t\n",
       "1               Women's adidas Originals Sleek Shoes  ...  2020-04-13T15:06:15\\t\n",
       "2                  Women's adidas Swim Puka Slippers  ...  2020-04-13T15:06:15\\t\n",
       "3   Women's adidas Sport Inspired Questar Ride Shoes  ...  2020-04-13T15:06:15\\t\n",
       "4           Women's adidas Originals Taekwondo Shoes  ...  2020-04-13T15:06:15\\t\n",
       "\n",
       "[5 rows x 10 columns]"
      ]
     },
     "execution_count": 4,
     "metadata": {
      "tags": []
     },
     "output_type": "execute_result"
    }
   ],
   "source": [
    "# Load data\n",
    "product_data = pd.read_csv(os.path.join(path, \"Clustering_product.csv\"))\n",
    "product_data.head()"
   ]
  },
  {
   "cell_type": "markdown",
   "metadata": {
    "id": "AeONXYmnZJUw"
   },
   "source": [
    "Perhatikan data yang anda miliki diatas, berdasarkan informasi yang anda miliki akan ada beberapa variabel yang tidak akan anda gunakan dalam clustering diantaranya Product Name, Product Id, Description, dan Last Visited. Pengecualian dari variabel-variabel tersebut dikarenakan terlalu banyak value dan bukan merupakan data kategori, oleh karena itu untuk selanjutnya akan direduksi."
   ]
  },
  {
   "cell_type": "markdown",
   "metadata": {
    "id": "LlIjc1XzX-VQ"
   },
   "source": [
    "> **Dalam materi ini, data preprocessing seperti cek missing value, duplicate data, data type tidak akan dilakukan, karena fokus dari materi adalah pada clustering. Anda dapat membuka kembali materi sebelumnya dan menerapkankan sendiri dalam materi ini jika ingin menganalisis secara lengkap.**"
   ]
  },
  {
   "cell_type": "markdown",
   "metadata": {
    "id": "qdUBusj8kE8k"
   },
   "source": [
    "## Exploratory Data Analysis (EDA)"
   ]
  },
  {
   "cell_type": "code",
   "execution_count": null,
   "metadata": {
    "colab": {
     "base_uri": "https://localhost:8080/"
    },
    "executionInfo": {
     "elapsed": 8,
     "status": "ok",
     "timestamp": 1629112012746,
     "user": {
      "displayName": "Rahayu Oktavia Putri",
      "photoUrl": "",
      "userId": "02165658332696555094"
     },
     "user_tz": -420
    },
    "id": "nc9gBbUhgBz-",
    "outputId": "77ae8ff2-a163-40bf-c31e-d26387d45930"
   },
   "outputs": [
    {
     "name": "stdout",
     "output_type": "stream",
     "text": [
      "<class 'pandas.core.frame.DataFrame'>\n",
      "RangeIndex: 3268 entries, 0 to 3267\n",
      "Data columns (total 10 columns):\n",
      " #   Column         Non-Null Count  Dtype  \n",
      "---  ------         --------------  -----  \n",
      " 0   Product Name   3268 non-null   object \n",
      " 1   Product ID     3268 non-null   object \n",
      " 2   Listing Price  3268 non-null   int64  \n",
      " 3   Sale Price     3268 non-null   int64  \n",
      " 4   Discount       3268 non-null   int64  \n",
      " 5   Brand          3268 non-null   object \n",
      " 6   Description    3265 non-null   object \n",
      " 7   Rating         3268 non-null   float64\n",
      " 8   Reviews        3268 non-null   int64  \n",
      " 9   Last Visited\t  3268 non-null   object \n",
      "dtypes: float64(1), int64(4), object(5)\n",
      "memory usage: 255.4+ KB\n"
     ]
    }
   ],
   "source": [
    "# Mendapatkan informasi dari data\n",
    "product_data.info()"
   ]
  },
  {
   "cell_type": "markdown",
   "metadata": {
    "id": "CgCoagyeUaZm"
   },
   "source": [
    "**Brand apa saja yang dijual dalam store ini dan bagaimana kondisi penjualannya?**\n",
    "<br>\n",
    "Pertama akan dicari tahu mengenai brand apa saja yang terdapat di store dan kondisi penjualan masing-masing brand. Hal ini akan membantu untuk proses analisa persaingan tiap brand."
   ]
  },
  {
   "cell_type": "code",
   "execution_count": null,
   "metadata": {
    "colab": {
     "base_uri": "https://localhost:8080/",
     "height": 404
    },
    "executionInfo": {
     "elapsed": 692,
     "status": "ok",
     "timestamp": 1629112013432,
     "user": {
      "displayName": "Rahayu Oktavia Putri",
      "photoUrl": "",
      "userId": "02165658332696555094"
     },
     "user_tz": -420
    },
    "id": "lHf9snBBbHUL",
    "outputId": "2dd078f3-3746-4e14-e3fb-86220f1bacda"
   },
   "outputs": [
    {
     "data": {
      "image/png": "[encoded data removed]",
      "text/plain": [
       "<Figure size 720x432 with 1 Axes>"
      ]
     },
     "metadata": {
      "needs_background": "light",
      "tags": []
     },
     "output_type": "display_data"
    }
   ],
   "source": [
    "# Kondisi penjualan tiap brand\n",
    "plt.figure(figsize=(10,6))\n",
    "sns.countplot(x=\"Brand\", data=product_data, palette=\"rocket\")\n",
    "plt.title(\"Jumlah Penjualan Tiap Brand\")\n",
    "plt.xlabel(\"Brand\")\n",
    "plt.ylabel(\"Jumlah Penjualan\")\n",
    "plt.show()"
   ]
  },
  {
   "cell_type": "markdown",
   "metadata": {
    "id": "SFbdgsc_bXUm"
   },
   "source": [
    "Dari visualisasi diatas diketahui bahwa dalam store dengan kategori produk sport & apparel terdapat 2 brand yang dijual yaitu Adidas dan Nike dengan total penjualan Brand Adidas lebih tinggi dibandingkan dengan Nike. Penjualan paling banyak terdapat pada Adidas Core/Neo.\n",
    "<br>\n",
    "<br>\n",
    "**Apakah ada kaitannya dengan pemberian diskon?**\n",
    "<br>\n",
    "Dikarenakan terdapat selisih yang sangat jauh antara kedua brand maka akan dicari tahu faktor lain yang mungkin mempengaruhi, salah satunya adalah pemberian diskon."
   ]
  },
  {
   "cell_type": "code",
   "execution_count": null,
   "metadata": {
    "colab": {
     "base_uri": "https://localhost:8080/",
     "height": 405
    },
    "executionInfo": {
     "elapsed": 956,
     "status": "ok",
     "timestamp": 1629112014366,
     "user": {
      "displayName": "Rahayu Oktavia Putri",
      "photoUrl": "",
      "userId": "02165658332696555094"
     },
     "user_tz": -420
    },
    "id": "tH0rDPOb5DUU",
    "outputId": "6435bf54-5885-4f57-a434-4aa218ebb195"
   },
   "outputs": [
    {
     "data": {
      "text/plain": [
       "<matplotlib.axes._subplots.AxesSubplot at 0x7f5e936e1f10>"
      ]
     },
     "execution_count": 7,
     "metadata": {
      "tags": []
     },
     "output_type": "execute_result"
    },
    {
     "data": {
      "image/png": "[encoded data removed]",
      "text/plain": [
       "<Figure size 720x432 with 1 Axes>"
      ]
     },
     "metadata": {
      "needs_background": "light",
      "tags": []
     },
     "output_type": "display_data"
    }
   ],
   "source": [
    "# Distribusi persebaran diskon pada masing-masing brand\n",
    "plt.figure(figsize=(10,6))\n",
    "sns.boxplot(x=\"Brand\", y=\"Discount\", data=product_data)"
   ]
  },
  {
   "cell_type": "markdown",
   "metadata": {
    "id": "Kyx56NFadRyP"
   },
   "source": [
    "Setelah dilakukan pengecekan penawaran yaitu adanya diskon, ternyata didapat pengaruh yang besar mengenai perbedaan perilaku customer terhadap penawaran yang diberikan. Brand adidas menawarkan diskon hampir disemua kategori produknya, berbeda dengan Nike yang tidak banyak memberikan penawaran tambahan. Hal ini mengindikasikan bahwa pemberian diskon dapat menarik minat customer.\n",
    "<br>\n",
    "<br>\n",
    "**Namun bagaimana dengan harga yang ditawarkan? Apakah terdapat selisih yang cukup besar?**\n",
    "<br>\n",
    "Selanjutnya akan dicari tahu mengenai perbedaan harga pada masing-masing brand, apakah sebelum dan sesudah diskon selisih harga cukup jauh."
   ]
  },
  {
   "cell_type": "code",
   "execution_count": null,
   "metadata": {
    "colab": {
     "base_uri": "https://localhost:8080/",
     "height": 275
    },
    "executionInfo": {
     "elapsed": 28,
     "status": "ok",
     "timestamp": 1629112014367,
     "user": {
      "displayName": "Rahayu Oktavia Putri",
      "photoUrl": "",
      "userId": "02165658332696555094"
     },
     "user_tz": -420
    },
    "id": "IHl4j63ekE8k",
    "outputId": "f56fe6a7-d5b3-405b-ee58-a23ac216abfb"
   },
   "outputs": [
    {
     "data": {
      "image/png": "[encoded data removed]",
      "text/plain": [
       "<Figure size 1440x576 with 2 Axes>"
      ]
     },
     "metadata": {
      "needs_background": "light",
      "tags": []
     },
     "output_type": "display_data"
    }
   ],
   "source": [
    "# Cek Perbedaan Harga sebelum dan sesudah diskon\n",
    "plt.figure(figsize=(20,8))\n",
    "plt.subplot(221)\n",
    "sns.boxplot(x=\"Brand\", y=\"Listing Price\", data=product_data)\n",
    "plt.title(\"Harga Sebelum Diskon\")\n",
    "plt.subplot(222)\n",
    "sns.boxplot(x=\"Brand\", y=\"Sale Price\", data=product_data)\n",
    "plt.title(\"Harga Setelah Diskon\")\n",
    "plt.show()"
   ]
  },
  {
   "cell_type": "markdown",
   "metadata": {
    "id": "hEOPLUMoeDbt"
   },
   "source": [
    "Jika dilihat dari visualisasi selisih harga sebenenarnya antara Adidas dan Nike tidak berbeda cukup jauh, bahkan dibeberapa produk Adidas memiliki harga yang lebih tinggi dibandingkan dengan Nike. Namun setelah adanya diskon perbedaan harga sangat jauh berbeda, turun hingga 50% terutama pada brand adidas, sedangkan Nike masih mempertahankan harga aslinya. Sekarang akan dilakukan analisa mengenai tiap-tiap produk dan penilaian dari customer.\n",
    "<br>\n",
    "<br>\n",
    "**Berapa banyak tipe produk pada masing-masing brand?**\n",
    "<br>\n",
    "Dalam strategi penjualan ada beberapa tipe strategi yang digunakan, salah duanya adalah dengan melimitasi jenis produk dan memperbanyak jenis produk. dibawah ini akan dicari tahu strategi mana yang digunakan tiap brand?"
   ]
  },
  {
   "cell_type": "code",
   "execution_count": null,
   "metadata": {
    "colab": {
     "base_uri": "https://localhost:8080/",
     "height": 405
    },
    "executionInfo": {
     "elapsed": 25,
     "status": "ok",
     "timestamp": 1629112014368,
     "user": {
      "displayName": "Rahayu Oktavia Putri",
      "photoUrl": "",
      "userId": "02165658332696555094"
     },
     "user_tz": -420
    },
    "id": "rTRVgp87kE8l",
    "outputId": "fb977a3a-acdd-4e23-96b5-53d41b9c317d"
   },
   "outputs": [
    {
     "data": {
      "text/plain": [
       "<matplotlib.axes._subplots.AxesSubplot at 0x7f5e9313f790>"
      ]
     },
     "execution_count": 9,
     "metadata": {
      "tags": []
     },
     "output_type": "execute_result"
    },
    {
     "data": {
      "image/png": "[encoded data removed]",
      "text/plain": [
       "<Figure size 720x432 with 1 Axes>"
      ]
     },
     "metadata": {
      "needs_background": "light",
      "tags": []
     },
     "output_type": "display_data"
    }
   ],
   "source": [
    "# Mendapatkan banyaknya tipe produk pada masing-masing brand\n",
    "total_product = product_data.groupby([\"Brand\", \"Product Name\"])[\"Product ID\"].count().reset_index()\n",
    "total_product.rename(columns = {'Product ID': 'Total Produk'}, inplace = True)\n",
    "\n",
    "total_product = total_product.groupby(\"Brand\")[\"Product Name\"].count().reset_index()\n",
    "\n",
    "plt.figure(figsize=(10,6))\n",
    "sns.barplot(data = total_product, x = 'Brand', y = 'Product Name')"
   ]
  },
  {
   "cell_type": "markdown",
   "metadata": {
    "id": "k3stOQiXfaFx"
   },
   "source": [
    "Berdasarkan total produk, adidas memiliki banyak variasi produk sedangkan nike lebih membatasi produknya, dengan melihat strategi ini maka nike menggunakan strategi untuk tidak memperbanyak series pada produk dan strategi ini terbukti cukup efektif untuk tetap eksis dipasaran. Walaupun nike tidak memberikan banyak penawaran kepada customer, Peminat produk nike masih cukup banyak, mempertahan stok Nike tidak akan membuat kerugian.\n",
    "<br>\n",
    "<br>\n",
    "**Lalu bagaimana dengan penilaian dari customer pada masing-masing product?**\n",
    "<br>\n",
    "Penilaian customer akan dilihat dari 2 faktor, yaitu jumlah review dan pemberian rating."
   ]
  },
  {
   "cell_type": "code",
   "execution_count": null,
   "metadata": {
    "colab": {
     "base_uri": "https://localhost:8080/",
     "height": 276
    },
    "executionInfo": {
     "elapsed": 1056,
     "status": "ok",
     "timestamp": 1629112015411,
     "user": {
      "displayName": "Rahayu Oktavia Putri",
      "photoUrl": "",
      "userId": "02165658332696555094"
     },
     "user_tz": -420
    },
    "id": "YMBctEXHOUn6",
    "outputId": "4f041e70-c527-4ee9-8358-6888c4612529"
   },
   "outputs": [
    {
     "data": {
      "image/png": "[encoded data removed]",
      "text/plain": [
       "<Figure size 1440x576 with 2 Axes>"
      ]
     },
     "metadata": {
      "needs_background": "light",
      "tags": []
     },
     "output_type": "display_data"
    }
   ],
   "source": [
    "# Cek Review dan Rating\n",
    "plt.figure(figsize=(20,8))\n",
    "plt.subplot(221)\n",
    "sns.barplot(x=\"Brand\", y=\"Reviews\", data=product_data)\n",
    "plt.title(\"Total Review\")\n",
    "plt.subplot(222)\n",
    "sns.boxplot(x=\"Brand\", y=\"Rating\", data=product_data)\n",
    "plt.title(\"Persebaran Pemberian Rating\")\n",
    "plt.show()"
   ]
  },
  {
   "cell_type": "markdown",
   "metadata": {
    "id": "EBMy9yFqPRn5"
   },
   "source": [
    "Jika dilihat berdasarkan jumlah review yang diberikan dan total penjualan, Adidas memiliki banyak review dari customer dengan penilaian yang cukup memuaskan yaitu dominan di rating > 2. Kondisi ini berbeda dengan Nike, disamping setidikitnya jumlah review yang diberikan, penilaian akan brand Nike lebih bervariasi, beberapa orang merasa puas dan beberapa diantaranya memberikan penilaian yang kurang memuasakan.\n",
    "<br>\n",
    "<br>\n",
    "Melihat analisa diatas, maka banyaknya penjualan pada brand Adidas bukan hanya dipengaruhi oleh pemberian penawaran saja, namun karena pengaruh strategi yang diterapkan dan juga kualitas yang ditawarkan."
   ]
  },
  {
   "cell_type": "markdown",
   "metadata": {
    "id": "ybN-zvjYkE8l"
   },
   "source": [
    "## Data Preprocessing"
   ]
  },
  {
   "cell_type": "markdown",
   "metadata": {
    "id": "6xBG2GAySAFw"
   },
   "source": [
    "### Encode Categorical"
   ]
  },
  {
   "cell_type": "code",
   "execution_count": null,
   "metadata": {
    "colab": {
     "base_uri": "https://localhost:8080/",
     "height": 202
    },
    "executionInfo": {
     "elapsed": 55,
     "status": "ok",
     "timestamp": 1629112015413,
     "user": {
      "displayName": "Rahayu Oktavia Putri",
      "photoUrl": "",
      "userId": "02165658332696555094"
     },
     "user_tz": -420
    },
    "id": "l6Wx2F2rkE8l",
    "outputId": "7472b5f0-b743-475d-ee8c-acfe961fdfb5"
   },
   "outputs": [
    {
     "data": {
      "text/html": [
       "<div>\n",
       "<style scoped>\n",
       "    .dataframe tbody tr th:only-of-type {\n",
       "        vertical-align: middle;\n",
       "    }\n",
       "\n",
       "    .dataframe tbody tr th {\n",
       "        vertical-align: top;\n",
       "    }\n",
       "\n",
       "    .dataframe thead th {\n",
       "        text-align: right;\n",
       "    }\n",
       "</style>\n",
       "<table border=\"1\" class=\"dataframe\">\n",
       "  <thead>\n",
       "    <tr style=\"text-align: right;\">\n",
       "      <th></th>\n",
       "      <th>Brand</th>\n",
       "      <th>Listing Price</th>\n",
       "      <th>Sale Price</th>\n",
       "      <th>Discount</th>\n",
       "      <th>Rating</th>\n",
       "      <th>Reviews</th>\n",
       "    </tr>\n",
       "  </thead>\n",
       "  <tbody>\n",
       "    <tr>\n",
       "      <th>0</th>\n",
       "      <td>1</td>\n",
       "      <td>14999</td>\n",
       "      <td>7499</td>\n",
       "      <td>50</td>\n",
       "      <td>4.8</td>\n",
       "      <td>41</td>\n",
       "    </tr>\n",
       "    <tr>\n",
       "      <th>1</th>\n",
       "      <td>1</td>\n",
       "      <td>7599</td>\n",
       "      <td>3799</td>\n",
       "      <td>50</td>\n",
       "      <td>3.3</td>\n",
       "      <td>24</td>\n",
       "    </tr>\n",
       "    <tr>\n",
       "      <th>2</th>\n",
       "      <td>0</td>\n",
       "      <td>999</td>\n",
       "      <td>599</td>\n",
       "      <td>40</td>\n",
       "      <td>2.6</td>\n",
       "      <td>37</td>\n",
       "    </tr>\n",
       "    <tr>\n",
       "      <th>3</th>\n",
       "      <td>0</td>\n",
       "      <td>6999</td>\n",
       "      <td>3499</td>\n",
       "      <td>50</td>\n",
       "      <td>4.1</td>\n",
       "      <td>35</td>\n",
       "    </tr>\n",
       "    <tr>\n",
       "      <th>4</th>\n",
       "      <td>1</td>\n",
       "      <td>7999</td>\n",
       "      <td>3999</td>\n",
       "      <td>50</td>\n",
       "      <td>3.5</td>\n",
       "      <td>72</td>\n",
       "    </tr>\n",
       "  </tbody>\n",
       "</table>\n",
       "</div>"
      ],
      "text/plain": [
       "   Brand  Listing Price  Sale Price  Discount  Rating  Reviews\n",
       "0      1          14999        7499        50     4.8       41\n",
       "1      1           7599        3799        50     3.3       24\n",
       "2      0            999         599        40     2.6       37\n",
       "3      0           6999        3499        50     4.1       35\n",
       "4      1           7999        3999        50     3.5       72"
      ]
     },
     "execution_count": 11,
     "metadata": {
      "tags": []
     },
     "output_type": "execute_result"
    }
   ],
   "source": [
    "# Merubah data kategori menjadi numerik\n",
    "label_encoder = LabelEncoder()\n",
    "encoded_data = product_data[['Brand']].apply(label_encoder.fit_transform)\n",
    "\n",
    "# Menggabungkan kedua data\n",
    "cluster_data = pd.concat([encoded_data, product_data[[\"Listing Price\", \"Sale Price\", 'Discount', 'Rating', 'Reviews']]], axis=1)\n",
    "\n",
    "cluster_data.head()"
   ]
  },
  {
   "cell_type": "markdown",
   "metadata": {
    "id": "X2WIXGEsS3Z7"
   },
   "source": [
    "### Features Selection\n",
    "Dalam proses ini akan dipilih variabel yang memiliki pengaruh besar dalam penentuan cluster data."
   ]
  },
  {
   "cell_type": "code",
   "execution_count": null,
   "metadata": {
    "colab": {
     "base_uri": "https://localhost:8080/",
     "height": 395
    },
    "executionInfo": {
     "elapsed": 52,
     "status": "ok",
     "timestamp": 1629112015414,
     "user": {
      "displayName": "Rahayu Oktavia Putri",
      "photoUrl": "",
      "userId": "02165658332696555094"
     },
     "user_tz": -420
    },
    "id": "GVTjmTV6Qk7Z",
    "outputId": "49f7f37a-f45b-408d-e8de-9c9f24be86de"
   },
   "outputs": [
    {
     "data": {
      "image/png": "[encoded data removed]",
      "text/plain": [
       "<Figure size 576x432 with 2 Axes>"
      ]
     },
     "metadata": {
      "needs_background": "light",
      "tags": []
     },
     "output_type": "display_data"
    }
   ],
   "source": [
    "# Features Selection\n",
    "plt.figure(figsize=(8,6))\n",
    "sns.heatmap(cluster_data.corr(), cmap = 'Wistia', annot = True)\n",
    "plt.title('Heatmap Data', fontsize = 20)\n",
    "plt.show()"
   ]
  },
  {
   "cell_type": "markdown",
   "metadata": {
    "id": "Gs-1l0rER0O7"
   },
   "source": [
    "Dari hasil heatmap diatas diketahui bahwa terdapat korelasi negatif pada beberapa variabel, korelasi negatif paling banyak terjadi di variabel brand dan juga sale price. Oleh karena itu kedua variabel tersebut akan direduksi dan tidak dimasukkan dalam input clustering."
   ]
  },
  {
   "cell_type": "code",
   "execution_count": null,
   "metadata": {
    "colab": {
     "base_uri": "https://localhost:8080/",
     "height": 202
    },
    "executionInfo": {
     "elapsed": 48,
     "status": "ok",
     "timestamp": 1629112015415,
     "user": {
      "displayName": "Rahayu Oktavia Putri",
      "photoUrl": "",
      "userId": "02165658332696555094"
     },
     "user_tz": -420
    },
    "id": "zyrXRL_qUSzQ",
    "outputId": "890237fc-0553-4952-9809-b20cfb33ebc4"
   },
   "outputs": [
    {
     "data": {
      "text/html": [
       "<div>\n",
       "<style scoped>\n",
       "    .dataframe tbody tr th:only-of-type {\n",
       "        vertical-align: middle;\n",
       "    }\n",
       "\n",
       "    .dataframe tbody tr th {\n",
       "        vertical-align: top;\n",
       "    }\n",
       "\n",
       "    .dataframe thead th {\n",
       "        text-align: right;\n",
       "    }\n",
       "</style>\n",
       "<table border=\"1\" class=\"dataframe\">\n",
       "  <thead>\n",
       "    <tr style=\"text-align: right;\">\n",
       "      <th></th>\n",
       "      <th>Listing Price</th>\n",
       "      <th>Discount</th>\n",
       "      <th>Rating</th>\n",
       "      <th>Reviews</th>\n",
       "    </tr>\n",
       "  </thead>\n",
       "  <tbody>\n",
       "    <tr>\n",
       "      <th>0</th>\n",
       "      <td>14999</td>\n",
       "      <td>50</td>\n",
       "      <td>4.8</td>\n",
       "      <td>41</td>\n",
       "    </tr>\n",
       "    <tr>\n",
       "      <th>1</th>\n",
       "      <td>7599</td>\n",
       "      <td>50</td>\n",
       "      <td>3.3</td>\n",
       "      <td>24</td>\n",
       "    </tr>\n",
       "    <tr>\n",
       "      <th>2</th>\n",
       "      <td>999</td>\n",
       "      <td>40</td>\n",
       "      <td>2.6</td>\n",
       "      <td>37</td>\n",
       "    </tr>\n",
       "    <tr>\n",
       "      <th>3</th>\n",
       "      <td>6999</td>\n",
       "      <td>50</td>\n",
       "      <td>4.1</td>\n",
       "      <td>35</td>\n",
       "    </tr>\n",
       "    <tr>\n",
       "      <th>4</th>\n",
       "      <td>7999</td>\n",
       "      <td>50</td>\n",
       "      <td>3.5</td>\n",
       "      <td>72</td>\n",
       "    </tr>\n",
       "  </tbody>\n",
       "</table>\n",
       "</div>"
      ],
      "text/plain": [
       "   Listing Price  Discount  Rating  Reviews\n",
       "0          14999        50     4.8       41\n",
       "1           7599        50     3.3       24\n",
       "2            999        40     2.6       37\n",
       "3           6999        50     4.1       35\n",
       "4           7999        50     3.5       72"
      ]
     },
     "execution_count": 13,
     "metadata": {
      "tags": []
     },
     "output_type": "execute_result"
    }
   ],
   "source": [
    "# Drop variabel yang tidak dibutuhkan\n",
    "cluster_data = cluster_data.drop([\"Sale Price\", \"Brand\"], axis = 1)\n",
    "cluster_data.head()"
   ]
  },
  {
   "cell_type": "markdown",
   "metadata": {
    "id": "VlB-wxEwUto7"
   },
   "source": [
    "### Scaling Data\n",
    "Dalam clustering penggunaan scaling data juga diperlukan, hal ini akan membantu mengatasi permasalahan gap pada tiap kolom."
   ]
  },
  {
   "cell_type": "code",
   "execution_count": null,
   "metadata": {
    "colab": {
     "base_uri": "https://localhost:8080/"
    },
    "executionInfo": {
     "elapsed": 40,
     "status": "ok",
     "timestamp": 1629112015416,
     "user": {
      "displayName": "Rahayu Oktavia Putri",
      "photoUrl": "",
      "userId": "02165658332696555094"
     },
     "user_tz": -420
    },
    "id": "nTqyeAnTiK_g",
    "outputId": "4fd46cab-8c0e-41c4-f0bb-18d8dba03b36"
   },
   "outputs": [
    {
     "data": {
      "text/plain": [
       "Index(['Listing Price', 'Discount', 'Rating', 'Reviews'], dtype='object')"
      ]
     },
     "execution_count": 14,
     "metadata": {
      "tags": []
     },
     "output_type": "execute_result"
    }
   ],
   "source": [
    "# Membuat variabel untuk mendefinisikan variabel\n",
    "columns_name = cluster_data.columns\n",
    "columns_name"
   ]
  },
  {
   "cell_type": "code",
   "execution_count": null,
   "metadata": {
    "colab": {
     "base_uri": "https://localhost:8080/",
     "height": 202
    },
    "executionInfo": {
     "elapsed": 31,
     "status": "ok",
     "timestamp": 1629112015418,
     "user": {
      "displayName": "Rahayu Oktavia Putri",
      "photoUrl": "",
      "userId": "02165658332696555094"
     },
     "user_tz": -420
    },
    "id": "IVQrR1hRkE8l",
    "outputId": "15f7603e-4178-4ace-e98a-a3721064458b"
   },
   "outputs": [
    {
     "data": {
      "text/html": [
       "<div>\n",
       "<style scoped>\n",
       "    .dataframe tbody tr th:only-of-type {\n",
       "        vertical-align: middle;\n",
       "    }\n",
       "\n",
       "    .dataframe tbody tr th {\n",
       "        vertical-align: top;\n",
       "    }\n",
       "\n",
       "    .dataframe thead th {\n",
       "        text-align: right;\n",
       "    }\n",
       "</style>\n",
       "<table border=\"1\" class=\"dataframe\">\n",
       "  <thead>\n",
       "    <tr style=\"text-align: right;\">\n",
       "      <th></th>\n",
       "      <th>Listing Price</th>\n",
       "      <th>Discount</th>\n",
       "      <th>Rating</th>\n",
       "      <th>Reviews</th>\n",
       "    </tr>\n",
       "  </thead>\n",
       "  <tbody>\n",
       "    <tr>\n",
       "      <th>0</th>\n",
       "      <td>1.721230</td>\n",
       "      <td>1.021839</td>\n",
       "      <td>1.090476</td>\n",
       "      <td>0.014214</td>\n",
       "    </tr>\n",
       "    <tr>\n",
       "      <th>1</th>\n",
       "      <td>0.154740</td>\n",
       "      <td>1.021839</td>\n",
       "      <td>0.040524</td>\n",
       "      <td>-0.524807</td>\n",
       "    </tr>\n",
       "    <tr>\n",
       "      <th>2</th>\n",
       "      <td>-1.242400</td>\n",
       "      <td>0.579948</td>\n",
       "      <td>-0.449453</td>\n",
       "      <td>-0.112615</td>\n",
       "    </tr>\n",
       "    <tr>\n",
       "      <th>3</th>\n",
       "      <td>0.027727</td>\n",
       "      <td>1.021839</td>\n",
       "      <td>0.600498</td>\n",
       "      <td>-0.176029</td>\n",
       "    </tr>\n",
       "    <tr>\n",
       "      <th>4</th>\n",
       "      <td>0.239415</td>\n",
       "      <td>1.021839</td>\n",
       "      <td>0.180518</td>\n",
       "      <td>0.997134</td>\n",
       "    </tr>\n",
       "  </tbody>\n",
       "</table>\n",
       "</div>"
      ],
      "text/plain": [
       "   Listing Price  Discount    Rating   Reviews\n",
       "0       1.721230  1.021839  1.090476  0.014214\n",
       "1       0.154740  1.021839  0.040524 -0.524807\n",
       "2      -1.242400  0.579948 -0.449453 -0.112615\n",
       "3       0.027727  1.021839  0.600498 -0.176029\n",
       "4       0.239415  1.021839  0.180518  0.997134"
      ]
     },
     "execution_count": 15,
     "metadata": {
      "tags": []
     },
     "output_type": "execute_result"
    }
   ],
   "source": [
    "# Data Scaling\n",
    "scaler = StandardScaler()\n",
    "cluster_data[columns_name] = scaler.fit_transform(cluster_data[columns_name])\n",
    "cluster_data.head()"
   ]
  },
  {
   "cell_type": "markdown",
   "metadata": {
    "id": "Tug83Iq_kE8m"
   },
   "source": [
    "## KMeans Cluster"
   ]
  },
  {
   "cell_type": "markdown",
   "metadata": {
    "id": "7FKuFeKokE8m"
   },
   "source": [
    "### Menentukan Nilai Optimal K (kelompok)"
   ]
  },
  {
   "cell_type": "markdown",
   "metadata": {
    "id": "MzEt-iwgkE8n"
   },
   "source": [
    "Akan digunakan metode Elbow untuk menentukan jumlah k optimal."
   ]
  },
  {
   "cell_type": "code",
   "execution_count": null,
   "metadata": {
    "id": "IN0YjB3qkE8n"
   },
   "outputs": [],
   "source": [
    "# Perulangan ini digunakan untuk mengeksekusi nilai k dengan data \n",
    "# Selanjutkan akan dicari SSE\n",
    "\n",
    "Sum_of_squared_error = []\n",
    "K = range(2,10)\n",
    "for k in K:\n",
    "    km = KMeans(n_clusters=k)\n",
    "    km = km.fit(cluster_data)\n",
    "    Sum_of_squared_error.append(km.inertia_)"
   ]
  },
  {
   "cell_type": "code",
   "execution_count": null,
   "metadata": {
    "colab": {
     "base_uri": "https://localhost:8080/",
     "height": 295
    },
    "executionInfo": {
     "elapsed": 20,
     "status": "ok",
     "timestamp": 1629112016840,
     "user": {
      "displayName": "Rahayu Oktavia Putri",
      "photoUrl": "",
      "userId": "02165658332696555094"
     },
     "user_tz": -420
    },
    "id": "jOzZJ87_kE8n",
    "outputId": "a5a5edfd-bf56-426a-84cd-e10f35af8789"
   },
   "outputs": [
    {
     "data": {
      "image/png": "[encoded data removed]",
      "text/plain": [
       "<Figure size 432x288 with 1 Axes>"
      ]
     },
     "metadata": {
      "needs_background": "light",
      "tags": []
     },
     "output_type": "display_data"
    }
   ],
   "source": [
    "plt.plot(K, Sum_of_squared_error, 'bx-')\n",
    "plt.xlabel('k')\n",
    "plt.ylabel('SSE')\n",
    "plt.title('Elbow Method For Optimal k')\n",
    "plt.show()"
   ]
  },
  {
   "cell_type": "markdown",
   "metadata": {
    "id": "LsUPyPN2XJBs"
   },
   "source": [
    "Berdasarkan metode elbow titik siku-siku diperoleh di k=3. Untuk memastikan, akan digunakan silhouette score untuk memvalidasi nilai k yang optimal."
   ]
  },
  {
   "cell_type": "markdown",
   "metadata": {
    "id": "djLPH69aGc5N"
   },
   "source": [
    "### Evaluation Model"
   ]
  },
  {
   "cell_type": "markdown",
   "metadata": {
    "id": "73QAXqgFGjxx"
   },
   "source": [
    "Menggunakan silhouette score untuk konfirmasi k-kluster"
   ]
  },
  {
   "cell_type": "code",
   "execution_count": null,
   "metadata": {
    "colab": {
     "base_uri": "https://localhost:8080/"
    },
    "executionInfo": {
     "elapsed": 3466,
     "status": "ok",
     "timestamp": 1629112020290,
     "user": {
      "displayName": "Rahayu Oktavia Putri",
      "photoUrl": "",
      "userId": "02165658332696555094"
     },
     "user_tz": -420
    },
    "id": "rvtrZhqlkE8p",
    "outputId": "4389c515-7f47-4043-aef1-e0e043eaa9fb"
   },
   "outputs": [
    {
     "name": "stdout",
     "output_type": "stream",
     "text": [
      "For n_clusters = 2, silhouette score is 0.3029585091723103\n",
      "For n_clusters = 3, silhouette score is 0.3262586114575535\n",
      "For n_clusters = 4, silhouette score is 0.3170450563786626\n",
      "For n_clusters = 5, silhouette score is 0.2959609808676315\n",
      "For n_clusters = 6, silhouette score is 0.3135025836176311\n",
      "For n_clusters = 7, silhouette score is 0.31426142287606496\n",
      "For n_clusters = 8, silhouette score is 0.32927709459510884\n",
      "For n_clusters = 9, silhouette score is 0.33977577066608683\n"
     ]
    }
   ],
   "source": [
    "range_n_clusters = range(2,10)\n",
    "for n_clusters in range_n_clusters:\n",
    "    clusterer = KMeans(n_clusters)\n",
    "    preds = clusterer.fit_predict(cluster_data)\n",
    "    centers = clusterer.cluster_centers_\n",
    "\n",
    "    score = silhouette_score(cluster_data, preds)\n",
    "    print(\"For n_clusters = {}, silhouette score is {}\".format(n_clusters, score))"
   ]
  },
  {
   "cell_type": "markdown",
   "metadata": {
    "id": "EyAB_vU8I_T9"
   },
   "source": [
    "Dari silhouette model didapat k-kluster yang optimum adalah 3, sama seperti pemilihan cluster dengan elbow method. Score pada k=8 dan k=9 memiliki score yang tinggi, namun pembagian kelompok menjadi 8 atau 9 terlalu banyak. Oleh karena itu dipilih k=3."
   ]
  },
  {
   "cell_type": "code",
   "execution_count": null,
   "metadata": {
    "colab": {
     "base_uri": "https://localhost:8080/"
    },
    "executionInfo": {
     "elapsed": 29,
     "status": "ok",
     "timestamp": 1629112020292,
     "user": {
      "displayName": "Rahayu Oktavia Putri",
      "photoUrl": "",
      "userId": "02165658332696555094"
     },
     "user_tz": -420
    },
    "id": "ewFHAGEwkE8n",
    "outputId": "1daed0e5-9d0b-4659-e471-eda647611b8d"
   },
   "outputs": [
    {
     "data": {
      "text/plain": [
       "KMeans(algorithm='auto', copy_x=True, init='k-means++', max_iter=300,\n",
       "       n_clusters=3, n_init=10, n_jobs=None, precompute_distances='auto',\n",
       "       random_state=None, tol=0.0001, verbose=0)"
      ]
     },
     "execution_count": 19,
     "metadata": {
      "tags": []
     },
     "output_type": "execute_result"
    }
   ],
   "source": [
    "# Memodelkan data dengan k-means\n",
    "cluster = KMeans(n_clusters=3)\n",
    "cluster.fit(cluster_data)"
   ]
  },
  {
   "cell_type": "code",
   "execution_count": null,
   "metadata": {
    "id": "zSdecWUkkE8n"
   },
   "outputs": [],
   "source": [
    "# Membuat kolom baru berdasarkan hasil clustering\n",
    "segment = pd.Series(cluster.labels_, name=\"segment\")"
   ]
  },
  {
   "cell_type": "code",
   "execution_count": null,
   "metadata": {
    "colab": {
     "base_uri": "https://localhost:8080/",
     "height": 302
    },
    "executionInfo": {
     "elapsed": 24,
     "status": "ok",
     "timestamp": 1629112020297,
     "user": {
      "displayName": "Rahayu Oktavia Putri",
      "photoUrl": "",
      "userId": "02165658332696555094"
     },
     "user_tz": -420
    },
    "id": "i2Z0NwQrkE8o",
    "outputId": "396f5dda-b8f2-4efb-e469-78a7f5dfc5a8"
   },
   "outputs": [
    {
     "data": {
      "text/html": [
       "<div>\n",
       "<style scoped>\n",
       "    .dataframe tbody tr th:only-of-type {\n",
       "        vertical-align: middle;\n",
       "    }\n",
       "\n",
       "    .dataframe tbody tr th {\n",
       "        vertical-align: top;\n",
       "    }\n",
       "\n",
       "    .dataframe thead th {\n",
       "        text-align: right;\n",
       "    }\n",
       "</style>\n",
       "<table border=\"1\" class=\"dataframe\">\n",
       "  <thead>\n",
       "    <tr style=\"text-align: right;\">\n",
       "      <th></th>\n",
       "      <th>Product Name</th>\n",
       "      <th>Product ID</th>\n",
       "      <th>Listing Price</th>\n",
       "      <th>Sale Price</th>\n",
       "      <th>Discount</th>\n",
       "      <th>Brand</th>\n",
       "      <th>Description</th>\n",
       "      <th>Rating</th>\n",
       "      <th>Reviews</th>\n",
       "      <th>Last Visited\\t</th>\n",
       "      <th>segment</th>\n",
       "    </tr>\n",
       "  </thead>\n",
       "  <tbody>\n",
       "    <tr>\n",
       "      <th>0</th>\n",
       "      <td>Women's adidas Originals NMD_Racer Primeknit S...</td>\n",
       "      <td>AH2430</td>\n",
       "      <td>14999</td>\n",
       "      <td>7499</td>\n",
       "      <td>50</td>\n",
       "      <td>Adidas ORIGINALS</td>\n",
       "      <td>Channeling the streamlined look of an '80s rac...</td>\n",
       "      <td>4.8</td>\n",
       "      <td>41</td>\n",
       "      <td>2020-04-13T15:06:14\\t</td>\n",
       "      <td>0</td>\n",
       "    </tr>\n",
       "    <tr>\n",
       "      <th>1</th>\n",
       "      <td>Women's adidas Originals Sleek Shoes</td>\n",
       "      <td>G27341</td>\n",
       "      <td>7599</td>\n",
       "      <td>3799</td>\n",
       "      <td>50</td>\n",
       "      <td>Adidas ORIGINALS</td>\n",
       "      <td>A modern take on adidas sport heritage, tailor...</td>\n",
       "      <td>3.3</td>\n",
       "      <td>24</td>\n",
       "      <td>2020-04-13T15:06:15\\t</td>\n",
       "      <td>0</td>\n",
       "    </tr>\n",
       "    <tr>\n",
       "      <th>2</th>\n",
       "      <td>Women's adidas Swim Puka Slippers</td>\n",
       "      <td>CM0081</td>\n",
       "      <td>999</td>\n",
       "      <td>599</td>\n",
       "      <td>40</td>\n",
       "      <td>Adidas CORE / NEO</td>\n",
       "      <td>These adidas Puka slippers for women's come wi...</td>\n",
       "      <td>2.6</td>\n",
       "      <td>37</td>\n",
       "      <td>2020-04-13T15:06:15\\t</td>\n",
       "      <td>0</td>\n",
       "    </tr>\n",
       "    <tr>\n",
       "      <th>3</th>\n",
       "      <td>Women's adidas Sport Inspired Questar Ride Shoes</td>\n",
       "      <td>B44832</td>\n",
       "      <td>6999</td>\n",
       "      <td>3499</td>\n",
       "      <td>50</td>\n",
       "      <td>Adidas CORE / NEO</td>\n",
       "      <td>Inspired by modern tech runners, these women's...</td>\n",
       "      <td>4.1</td>\n",
       "      <td>35</td>\n",
       "      <td>2020-04-13T15:06:15\\t</td>\n",
       "      <td>0</td>\n",
       "    </tr>\n",
       "    <tr>\n",
       "      <th>4</th>\n",
       "      <td>Women's adidas Originals Taekwondo Shoes</td>\n",
       "      <td>D98205</td>\n",
       "      <td>7999</td>\n",
       "      <td>3999</td>\n",
       "      <td>50</td>\n",
       "      <td>Adidas ORIGINALS</td>\n",
       "      <td>This design is inspired by vintage Taekwondo s...</td>\n",
       "      <td>3.5</td>\n",
       "      <td>72</td>\n",
       "      <td>2020-04-13T15:06:15\\t</td>\n",
       "      <td>0</td>\n",
       "    </tr>\n",
       "  </tbody>\n",
       "</table>\n",
       "</div>"
      ],
      "text/plain": [
       "                                        Product Name  ... segment\n",
       "0  Women's adidas Originals NMD_Racer Primeknit S...  ...       0\n",
       "1               Women's adidas Originals Sleek Shoes  ...       0\n",
       "2                  Women's adidas Swim Puka Slippers  ...       0\n",
       "3   Women's adidas Sport Inspired Questar Ride Shoes  ...       0\n",
       "4           Women's adidas Originals Taekwondo Shoes  ...       0\n",
       "\n",
       "[5 rows x 11 columns]"
      ]
     },
     "execution_count": 21,
     "metadata": {
      "tags": []
     },
     "output_type": "execute_result"
    }
   ],
   "source": [
    "# Menggabungkan data dengan hasil cluster\n",
    "results = pd.concat([product_data, segment], axis=1)\n",
    "results.head()"
   ]
  },
  {
   "cell_type": "markdown",
   "metadata": {
    "id": "GRYYM_r0XnjC"
   },
   "source": [
    "## EDA\n",
    "Selanjutnya akan dicari tahu karakteristik dari tiap cluster.\n",
    "<br>\n",
    "<br>\n",
    "**Bagaimana persebaran brand pada tiap cluster ?**"
   ]
  },
  {
   "cell_type": "code",
   "execution_count": null,
   "metadata": {
    "colab": {
     "base_uri": "https://localhost:8080/",
     "height": 404
    },
    "executionInfo": {
     "elapsed": 574,
     "status": "ok",
     "timestamp": 1629112020851,
     "user": {
      "displayName": "Rahayu Oktavia Putri",
      "photoUrl": "",
      "userId": "02165658332696555094"
     },
     "user_tz": -420
    },
    "id": "N8Hn32k0kE8o",
    "outputId": "85c06447-68a9-4e60-dbb4-641faf6d351a"
   },
   "outputs": [
    {
     "data": {
      "image/png": "[encoded data removed]",
      "text/plain": [
       "<Figure size 1080x432 with 1 Axes>"
      ]
     },
     "metadata": {
      "needs_background": "light",
      "tags": []
     },
     "output_type": "display_data"
    }
   ],
   "source": [
    "# Persebaran Brand pada tiap cluster\n",
    "plt.figure(figsize=(15,6))\n",
    "sns.countplot(x=\"segment\", data=results, hue=\"Brand\")\n",
    "plt.title(\"Kondisi Cluster Berdasarkan Brand\")\n",
    "plt.xlabel(\"Cluster\")\n",
    "plt.ylabel(\"Jumlah Customer\")\n",
    "plt.show()"
   ]
  },
  {
   "cell_type": "markdown",
   "metadata": {
    "id": "2oAM3G4KYQK3"
   },
   "source": [
    "Cluster 0 hanya terdiri dari brand Adidas dan Nike yang sangat sedikit, sedangkan pada cluster 1 dan 2 terdiri dari campuran antara brand adidas dan Nike dengan jumlah Nike lebih banyak dibanding tipe brand lainnya.\n",
    "<br>\n",
    "<br>\n",
    "**Lalu bagaimana series produk pada tiap cluster?**"
   ]
  },
  {
   "cell_type": "code",
   "execution_count": null,
   "metadata": {
    "colab": {
     "base_uri": "https://localhost:8080/",
     "height": 414
    },
    "executionInfo": {
     "elapsed": 9,
     "status": "ok",
     "timestamp": 1629112020852,
     "user": {
      "displayName": "Rahayu Oktavia Putri",
      "photoUrl": "",
      "userId": "02165658332696555094"
     },
     "user_tz": -420
    },
    "id": "b_VFRJAsVJrH",
    "outputId": "33b7a554-2c11-452e-ad82-e8c6c645cfde"
   },
   "outputs": [
    {
     "data": {
      "text/html": [
       "<div>\n",
       "<style scoped>\n",
       "    .dataframe tbody tr th:only-of-type {\n",
       "        vertical-align: middle;\n",
       "    }\n",
       "\n",
       "    .dataframe tbody tr th {\n",
       "        vertical-align: top;\n",
       "    }\n",
       "\n",
       "    .dataframe thead th {\n",
       "        text-align: right;\n",
       "    }\n",
       "</style>\n",
       "<table border=\"1\" class=\"dataframe\">\n",
       "  <thead>\n",
       "    <tr style=\"text-align: right;\">\n",
       "      <th></th>\n",
       "      <th>segment</th>\n",
       "      <th>Brand</th>\n",
       "      <th>Product Name</th>\n",
       "      <th>Total Produk</th>\n",
       "    </tr>\n",
       "  </thead>\n",
       "  <tbody>\n",
       "    <tr>\n",
       "      <th>0</th>\n",
       "      <td>0</td>\n",
       "      <td>Adidas CORE / NEO</td>\n",
       "      <td>MEN'S ADIDAS CLOUDFOAM RACER TR SHOES</td>\n",
       "      <td>1</td>\n",
       "    </tr>\n",
       "    <tr>\n",
       "      <th>1</th>\n",
       "      <td>0</td>\n",
       "      <td>Adidas CORE / NEO</td>\n",
       "      <td>MEN'S ADIDAS RUN 70S SHOES</td>\n",
       "      <td>1</td>\n",
       "    </tr>\n",
       "    <tr>\n",
       "      <th>2</th>\n",
       "      <td>0</td>\n",
       "      <td>Adidas CORE / NEO</td>\n",
       "      <td>MEN'S ADIDAS RUNNING 8K SHOES</td>\n",
       "      <td>1</td>\n",
       "    </tr>\n",
       "    <tr>\n",
       "      <th>3</th>\n",
       "      <td>0</td>\n",
       "      <td>Adidas CORE / NEO</td>\n",
       "      <td>MEN'S ADIDAS RUNNING ADISTARK 3.0 SHOES</td>\n",
       "      <td>2</td>\n",
       "    </tr>\n",
       "    <tr>\n",
       "      <th>4</th>\n",
       "      <td>0</td>\n",
       "      <td>Adidas CORE / NEO</td>\n",
       "      <td>MEN'S ADIDAS RUNNING ARGECY SHOES</td>\n",
       "      <td>2</td>\n",
       "    </tr>\n",
       "    <tr>\n",
       "      <th>...</th>\n",
       "      <td>...</td>\n",
       "      <td>...</td>\n",
       "      <td>...</td>\n",
       "      <td>...</td>\n",
       "    </tr>\n",
       "    <tr>\n",
       "      <th>1764</th>\n",
       "      <td>2</td>\n",
       "      <td>Nike</td>\n",
       "      <td>PG 3</td>\n",
       "      <td>2</td>\n",
       "    </tr>\n",
       "    <tr>\n",
       "      <th>1765</th>\n",
       "      <td>2</td>\n",
       "      <td>Nike</td>\n",
       "      <td>PG 3 NASA</td>\n",
       "      <td>2</td>\n",
       "    </tr>\n",
       "    <tr>\n",
       "      <th>1766</th>\n",
       "      <td>2</td>\n",
       "      <td>Nike</td>\n",
       "      <td>PG 4 EP</td>\n",
       "      <td>1</td>\n",
       "    </tr>\n",
       "    <tr>\n",
       "      <th>1767</th>\n",
       "      <td>2</td>\n",
       "      <td>Nike</td>\n",
       "      <td>Zoom Freak 1</td>\n",
       "      <td>1</td>\n",
       "    </tr>\n",
       "    <tr>\n",
       "      <th>1768</th>\n",
       "      <td>2</td>\n",
       "      <td>Nike</td>\n",
       "      <td>Zoom Freak 1 'Employee of the Month'</td>\n",
       "      <td>1</td>\n",
       "    </tr>\n",
       "  </tbody>\n",
       "</table>\n",
       "<p>1769 rows × 4 columns</p>\n",
       "</div>"
      ],
      "text/plain": [
       "      segment  ... Total Produk\n",
       "0           0  ...            1\n",
       "1           0  ...            1\n",
       "2           0  ...            1\n",
       "3           0  ...            2\n",
       "4           0  ...            2\n",
       "...       ...  ...          ...\n",
       "1764        2  ...            2\n",
       "1765        2  ...            2\n",
       "1766        2  ...            1\n",
       "1767        2  ...            1\n",
       "1768        2  ...            1\n",
       "\n",
       "[1769 rows x 4 columns]"
      ]
     },
     "execution_count": 23,
     "metadata": {
      "tags": []
     },
     "output_type": "execute_result"
    }
   ],
   "source": [
    "# Memfilter data dengan kategori segment, brand, dan product name\n",
    "series_cluster = results.groupby([\"segment\", \"Brand\", \"Product Name\"])[\"Product ID\"].count().reset_index()\n",
    "series_cluster.rename(columns = {'Product ID': 'Total Produk'}, inplace = True)\n",
    "series_cluster"
   ]
  },
  {
   "cell_type": "code",
   "execution_count": null,
   "metadata": {
    "colab": {
     "base_uri": "https://localhost:8080/",
     "height": 417
    },
    "executionInfo": {
     "elapsed": 8,
     "status": "ok",
     "timestamp": 1629112020852,
     "user": {
      "displayName": "Rahayu Oktavia Putri",
      "photoUrl": "",
      "userId": "02165658332696555094"
     },
     "user_tz": -420
    },
    "id": "ZjHRVdpAXrZi",
    "outputId": "35cc9c21-7a17-4069-b7c7-b9a494dcbd8b"
   },
   "outputs": [
    {
     "data": {
      "text/html": [
       "<div>\n",
       "<style scoped>\n",
       "    .dataframe tbody tr th:only-of-type {\n",
       "        vertical-align: middle;\n",
       "    }\n",
       "\n",
       "    .dataframe tbody tr th {\n",
       "        vertical-align: top;\n",
       "    }\n",
       "\n",
       "    .dataframe thead th {\n",
       "        text-align: right;\n",
       "    }\n",
       "</style>\n",
       "<table border=\"1\" class=\"dataframe\">\n",
       "  <thead>\n",
       "    <tr style=\"text-align: right;\">\n",
       "      <th></th>\n",
       "      <th>segment</th>\n",
       "      <th>Brand</th>\n",
       "      <th>Product Name</th>\n",
       "    </tr>\n",
       "  </thead>\n",
       "  <tbody>\n",
       "    <tr>\n",
       "      <th>0</th>\n",
       "      <td>0</td>\n",
       "      <td>Adidas CORE / NEO</td>\n",
       "      <td>337</td>\n",
       "    </tr>\n",
       "    <tr>\n",
       "      <th>1</th>\n",
       "      <td>0</td>\n",
       "      <td>Adidas ORIGINALS</td>\n",
       "      <td>257</td>\n",
       "    </tr>\n",
       "    <tr>\n",
       "      <th>2</th>\n",
       "      <td>0</td>\n",
       "      <td>Adidas SPORT PERFORMANCE</td>\n",
       "      <td>250</td>\n",
       "    </tr>\n",
       "    <tr>\n",
       "      <th>3</th>\n",
       "      <td>0</td>\n",
       "      <td>Nike</td>\n",
       "      <td>1</td>\n",
       "    </tr>\n",
       "    <tr>\n",
       "      <th>4</th>\n",
       "      <td>1</td>\n",
       "      <td>Adidas CORE / NEO</td>\n",
       "      <td>46</td>\n",
       "    </tr>\n",
       "    <tr>\n",
       "      <th>5</th>\n",
       "      <td>1</td>\n",
       "      <td>Adidas ORIGINALS</td>\n",
       "      <td>34</td>\n",
       "    </tr>\n",
       "    <tr>\n",
       "      <th>6</th>\n",
       "      <td>1</td>\n",
       "      <td>Adidas SPORT PERFORMANCE</td>\n",
       "      <td>29</td>\n",
       "    </tr>\n",
       "    <tr>\n",
       "      <th>7</th>\n",
       "      <td>1</td>\n",
       "      <td>Nike</td>\n",
       "      <td>165</td>\n",
       "    </tr>\n",
       "    <tr>\n",
       "      <th>8</th>\n",
       "      <td>2</td>\n",
       "      <td>Adidas CORE / NEO</td>\n",
       "      <td>143</td>\n",
       "    </tr>\n",
       "    <tr>\n",
       "      <th>9</th>\n",
       "      <td>2</td>\n",
       "      <td>Adidas ORIGINALS</td>\n",
       "      <td>131</td>\n",
       "    </tr>\n",
       "    <tr>\n",
       "      <th>10</th>\n",
       "      <td>2</td>\n",
       "      <td>Adidas SPORT PERFORMANCE</td>\n",
       "      <td>113</td>\n",
       "    </tr>\n",
       "    <tr>\n",
       "      <th>11</th>\n",
       "      <td>2</td>\n",
       "      <td>Nike</td>\n",
       "      <td>263</td>\n",
       "    </tr>\n",
       "  </tbody>\n",
       "</table>\n",
       "</div>"
      ],
      "text/plain": [
       "    segment                     Brand  Product Name\n",
       "0         0         Adidas CORE / NEO           337\n",
       "1         0          Adidas ORIGINALS           257\n",
       "2         0  Adidas SPORT PERFORMANCE           250\n",
       "3         0                      Nike             1\n",
       "4         1         Adidas CORE / NEO            46\n",
       "5         1          Adidas ORIGINALS            34\n",
       "6         1  Adidas SPORT PERFORMANCE            29\n",
       "7         1                      Nike           165\n",
       "8         2         Adidas CORE / NEO           143\n",
       "9         2          Adidas ORIGINALS           131\n",
       "10        2  Adidas SPORT PERFORMANCE           113\n",
       "11        2                      Nike           263"
      ]
     },
     "execution_count": 24,
     "metadata": {
      "tags": []
     },
     "output_type": "execute_result"
    }
   ],
   "source": [
    "# Mengelompokkan data dengan unique value\n",
    "series_cluster = series_cluster.groupby([\"segment\", \"Brand\"])[\"Product Name\"].count().reset_index()\n",
    "series_cluster"
   ]
  },
  {
   "cell_type": "code",
   "execution_count": null,
   "metadata": {
    "colab": {
     "base_uri": "https://localhost:8080/",
     "height": 404
    },
    "executionInfo": {
     "elapsed": 1080,
     "status": "ok",
     "timestamp": 1629112021924,
     "user": {
      "displayName": "Rahayu Oktavia Putri",
      "photoUrl": "",
      "userId": "02165658332696555094"
     },
     "user_tz": -420
    },
    "id": "fMKKu0VwZSXl",
    "outputId": "8c1824e6-fc55-40cc-d2a3-111fe767dc03"
   },
   "outputs": [
    {
     "data": {
      "image/png": "[encoded data removed]",
      "text/plain": [
       "<Figure size 1080x432 with 1 Axes>"
      ]
     },
     "metadata": {
      "needs_background": "light",
      "tags": []
     },
     "output_type": "display_data"
    }
   ],
   "source": [
    "# Banyaknya series produk pada tiap cluster\n",
    "plt.figure(figsize=(15,6))\n",
    "sns.barplot(x=\"segment\", y = \"Product Name\", data=series_cluster, hue=\"Brand\")\n",
    "plt.title(\"Jumlah Series pada tiap cluster\")\n",
    "plt.xlabel(\"Cluster\")\n",
    "plt.ylabel(\"Jumlah Customer\")\n",
    "plt.show()"
   ]
  },
  {
   "cell_type": "markdown",
   "metadata": {
    "id": "Y_ZfcS-Ka0SU"
   },
   "source": [
    "Ada perbedaan yang cukup mencolok apabila dilihat dari jumlah series produk. Dari visualisasi diatas diketahui bahwa :\n",
    "- Cluster 0 : Series yang di tawarkan lebih banyak dibanding cluster lainnya.\n",
    "- Cluster 1 : Dalam cluster ini series yang ditawarkan sangat terbatas dibanding lainnya\n",
    "- Cluster 2 : Pada cluster ini, series produk cukup banyak yang ditawarkan.\n",
    "\n",
    "\n",
    "Melihat analisa cluster dengan 2 variabel sebelumnya, maka akan dicari tahu **Berapa harga yang ditawarkan pada masing-masing cluster?**"
   ]
  },
  {
   "cell_type": "code",
   "execution_count": null,
   "metadata": {
    "colab": {
     "base_uri": "https://localhost:8080/",
     "height": 296
    },
    "executionInfo": {
     "elapsed": 20,
     "status": "ok",
     "timestamp": 1629112021925,
     "user": {
      "displayName": "Rahayu Oktavia Putri",
      "photoUrl": "",
      "userId": "02165658332696555094"
     },
     "user_tz": -420
    },
    "id": "uYnEHKKSkE8p",
    "outputId": "99805b3e-ce44-4f40-bfc1-032174389f70"
   },
   "outputs": [
    {
     "data": {
      "text/plain": [
       "<matplotlib.axes._subplots.AxesSubplot at 0x7f5e8ab77ed0>"
      ]
     },
     "execution_count": 26,
     "metadata": {
      "tags": []
     },
     "output_type": "execute_result"
    },
    {
     "data": {
      "image/png": "[encoded data removed]",
      "text/plain": [
       "<Figure size 432x288 with 1 Axes>"
      ]
     },
     "metadata": {
      "needs_background": "light",
      "tags": []
     },
     "output_type": "display_data"
    }
   ],
   "source": [
    "# Pengelompokan cluster berdasarkan harga\n",
    "sns.boxplot(x=results[\"segment\"], y=results[\"Listing Price\"], data=results)"
   ]
  },
  {
   "cell_type": "markdown",
   "metadata": {
    "id": "4T93XL-Teki0"
   },
   "source": [
    "Berdasarkan harga yang ditawarkan, range harga tertinggi ada pada cluster 2, disusul dengan cluster 1 kemudian 0.\n",
    "\n",
    "**Bagaimana dengan pemberian diskon pada masing-masing cluster?**"
   ]
  },
  {
   "cell_type": "code",
   "execution_count": null,
   "metadata": {
    "colab": {
     "base_uri": "https://localhost:8080/",
     "height": 296
    },
    "executionInfo": {
     "elapsed": 18,
     "status": "ok",
     "timestamp": 1629112021926,
     "user": {
      "displayName": "Rahayu Oktavia Putri",
      "photoUrl": "",
      "userId": "02165658332696555094"
     },
     "user_tz": -420
    },
    "id": "pBLSMd5mkE8p",
    "outputId": "da74edbe-18e7-461b-8e7f-6df6a6e4448b"
   },
   "outputs": [
    {
     "data": {
      "text/plain": [
       "<matplotlib.axes._subplots.AxesSubplot at 0x7f5e8a9ec650>"
      ]
     },
     "execution_count": 27,
     "metadata": {
      "tags": []
     },
     "output_type": "execute_result"
    },
    {
     "data": {
      "image/png": "[encoded data removed]",
      "text/plain": [
       "<Figure size 432x288 with 1 Axes>"
      ]
     },
     "metadata": {
      "needs_background": "light",
      "tags": []
     },
     "output_type": "display_data"
    }
   ],
   "source": [
    "# Pengelompokan cluster berdasarkan diskon\n",
    "sns.boxplot(x=results[\"segment\"], y=results[\"Discount\"], data=results)"
   ]
  },
  {
   "cell_type": "markdown",
   "metadata": {
    "id": "dgnPpKTbd-8h"
   },
   "source": [
    "Jika dilihat berdasarkan pemberian diskon\n",
    "- cluster 0 menawarkan banyak diskon\n",
    "- cluster 1 terdapat beberapa produk yang ditawarkan diskon dengan nilai proprosi yang tinggi\n",
    "- cluster 2 sangat minim penawaran diskon, ada beberapa produk yang ditawarkan diskon namun dengan proporsi yang rendah.\n",
    "\n",
    "\n",
    "**Bagaimana dengan kondisi favorite product pada tiap cluster?**\n",
    "<br>\n",
    "Produk favorit akan dilihat berdasarkan rating yang diberikan customer"
   ]
  },
  {
   "cell_type": "code",
   "execution_count": null,
   "metadata": {
    "colab": {
     "base_uri": "https://localhost:8080/",
     "height": 296
    },
    "executionInfo": {
     "elapsed": 1581,
     "status": "ok",
     "timestamp": 1629112023493,
     "user": {
      "displayName": "Rahayu Oktavia Putri",
      "photoUrl": "",
      "userId": "02165658332696555094"
     },
     "user_tz": -420
    },
    "id": "F-eH3Mm-fUxa",
    "outputId": "1452ee45-93f9-4684-a327-cdf18dc2a7cb"
   },
   "outputs": [
    {
     "data": {
      "text/plain": [
       "<matplotlib.axes._subplots.AxesSubplot at 0x7f5e8a971150>"
      ]
     },
     "execution_count": 28,
     "metadata": {
      "tags": []
     },
     "output_type": "execute_result"
    },
    {
     "data": {
      "image/png": "[encoded data removed]",
      "text/plain": [
       "<Figure size 432x288 with 1 Axes>"
      ]
     },
     "metadata": {
      "needs_background": "light",
      "tags": []
     },
     "output_type": "display_data"
    }
   ],
   "source": [
    "# Kondisi cluster berdasarkan rating\n",
    "sns.boxplot(x=results[\"segment\"], y=results[\"Rating\"], data=results)"
   ]
  },
  {
   "cell_type": "markdown",
   "metadata": {
    "id": "HTuO14UTgaVq"
   },
   "source": [
    "Dari analisa berdasarkan rating, cluster 1 adalah cluster dimana hanya beberapa orang yang merasa puas dengan barang, sedangkan cluster lainnya rata-rata customer sangat puas dengan produk yang mereka beli.\n",
    "<br>\n",
    "<br>\n",
    "Melihat hubungan 2 variabel"
   ]
  },
  {
   "cell_type": "code",
   "execution_count": null,
   "metadata": {
    "colab": {
     "base_uri": "https://localhost:8080/",
     "height": 296
    },
    "executionInfo": {
     "elapsed": 14,
     "status": "ok",
     "timestamp": 1629112023494,
     "user": {
      "displayName": "Rahayu Oktavia Putri",
      "photoUrl": "",
      "userId": "02165658332696555094"
     },
     "user_tz": -420
    },
    "id": "qjx9Jgslg-pD",
    "outputId": "d4c7d31b-d0c4-49c8-d267-88285fbe5d02"
   },
   "outputs": [
    {
     "data": {
      "text/plain": [
       "<matplotlib.axes._subplots.AxesSubplot at 0x7f5e8a9ec790>"
      ]
     },
     "execution_count": 29,
     "metadata": {
      "tags": []
     },
     "output_type": "execute_result"
    },
    {
     "data": {
      "image/png": "[encoded data removed]",
      "text/plain": [
       "<Figure size 432x288 with 1 Axes>"
      ]
     },
     "metadata": {
      "needs_background": "light",
      "tags": []
     },
     "output_type": "display_data"
    }
   ],
   "source": [
    "# Hubungan harga dengan rating\n",
    "sns.scatterplot(x=\"Rating\", y=\"Listing Price\", hue = \"segment\", data=results)"
   ]
  },
  {
   "cell_type": "code",
   "execution_count": null,
   "metadata": {
    "colab": {
     "base_uri": "https://localhost:8080/",
     "height": 296
    },
    "executionInfo": {
     "elapsed": 2410,
     "status": "ok",
     "timestamp": 1629112025895,
     "user": {
      "displayName": "Rahayu Oktavia Putri",
      "photoUrl": "",
      "userId": "02165658332696555094"
     },
     "user_tz": -420
    },
    "id": "hiG6btHBin4R",
    "outputId": "58e7d5c0-1d61-4ae7-d065-31e60b9bdaa1"
   },
   "outputs": [
    {
     "data": {
      "text/plain": [
       "<matplotlib.axes._subplots.AxesSubplot at 0x7f5e8ac18d50>"
      ]
     },
     "execution_count": 30,
     "metadata": {
      "tags": []
     },
     "output_type": "execute_result"
    },
    {
     "data": {
      "image/png": "[encoded data removed]",
      "text/plain": [
       "<Figure size 432x288 with 1 Axes>"
      ]
     },
     "metadata": {
      "needs_background": "light",
      "tags": []
     },
     "output_type": "display_data"
    }
   ],
   "source": [
    "# Hubungan harga dengan diskon\n",
    "sns.scatterplot(x=\"Discount\", y=\"Listing Price\", hue = \"segment\", data=results)"
   ]
  },
  {
   "cell_type": "code",
   "execution_count": null,
   "metadata": {
    "colab": {
     "base_uri": "https://localhost:8080/",
     "height": 296
    },
    "executionInfo": {
     "elapsed": 14,
     "status": "ok",
     "timestamp": 1629112025896,
     "user": {
      "displayName": "Rahayu Oktavia Putri",
      "photoUrl": "",
      "userId": "02165658332696555094"
     },
     "user_tz": -420
    },
    "id": "Ut5osmVyi1BJ",
    "outputId": "dfd8a518-50e5-488e-8bfb-30b075bd8001"
   },
   "outputs": [
    {
     "data": {
      "text/plain": [
       "<matplotlib.axes._subplots.AxesSubplot at 0x7f5e92d93b10>"
      ]
     },
     "execution_count": 31,
     "metadata": {
      "tags": []
     },
     "output_type": "execute_result"
    },
    {
     "data": {
      "image/png": "[encoded data removed]",
      "text/plain": [
       "<Figure size 432x288 with 1 Axes>"
      ]
     },
     "metadata": {
      "needs_background": "light",
      "tags": []
     },
     "output_type": "display_data"
    }
   ],
   "source": [
    "# Hubungan rating dengan diskon\n",
    "sns.scatterplot(x=\"Discount\", y=\"Rating\", hue = \"segment\", data=results)"
   ]
  },
  {
   "cell_type": "markdown",
   "metadata": {
    "id": "SdQA243WjDGA"
   },
   "source": [
    "Terdapat beberapa faktor yang mempengaruhi pemberian diskon, salah satunya dikarenakan product tersebut sudah berada lama dalam gudang atau dengan kata lain bukan produk terbaru."
   ]
  },
  {
   "cell_type": "markdown",
   "metadata": {
    "id": "wEvuaPv0gZUF"
   },
   "source": [
    "Dengan menimbang analisa sebelumnya maka dapat ditarik kesimpulan untuk pembagian pengelompokkan produk\n",
    "- Cluster 0 akan dikelompokkan kedalam **Produk Dalam Diskon**, product ini terdiri dari produk dengan keluaran lama namun masih banyak peminat, pemberian diskon memberikan impact yang positif dari segi penjualan.\n",
    "- Cluster 1 dikelompokan kedalam **Produk Terbaru**, produk dalam kategori ini adalah produk yang kurang banyak diminati dan memiliki reputasi yang kurang bagus, dengan harga yang tinggi dan tidak di bantu dengan penawaran lainnya walaupun keluaran yang cukup baru namun tingkat penjualan rendah.\n",
    "- Cluster 2 dikelompokan kedalam **Produk Favorit**, kelompok ini merupakan kategori produk unggulan, walaupun produk dibrandrol dengan harga yang tinggi dan tanpa penawaran dari segi pemberian diskon, namun respon customer masih sangat bagus, dan record penjualan sangat memuaskan.\n"
   ]
  },
  {
   "cell_type": "code",
   "execution_count": null,
   "metadata": {
    "id": "E08Dfyi3i9Tb"
   },
   "outputs": [],
   "source": []
  }
 ],
 "metadata": {
  "colab": {
   "collapsed_sections": [],
   "name": "Referensi jawaban BreakoutRoom.ipynb",
   "provenance": [
    {
     "file_id": "1NfmaTe2GRzuHJJdKa70OvL8H9riKd0ha",
     "timestamp": 1613222681364
    }
   ]
  },
  "kernelspec": {
   "display_name": "Python 3",
   "language": "python",
   "name": "python3"
  },
  "language_info": {
   "codemirror_mode": {
    "name": "ipython",
    "version": 3
   },
   "file_extension": ".py",
   "mimetype": "text/x-python",
   "name": "python",
   "nbconvert_exporter": "python",
   "pygments_lexer": "ipython3",
   "version": "3.8.3"
  }
 },
 "nbformat": 4,
 "nbformat_minor": 1
}
